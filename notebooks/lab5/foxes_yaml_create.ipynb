{
 "cells": [
  {
   "cell_type": "code",
   "execution_count": 1,
   "id": "f748aba6",
   "metadata": {},
   "outputs": [],
   "source": [
    "import yaml"
   ]
  },
  {
   "cell_type": "code",
   "execution_count": 25,
   "id": "6c9f5373",
   "metadata": {},
   "outputs": [],
   "source": [
    "out_dic = dict()\n",
    "out_dic['adaptvars'] = dict(atol = 0.00001, dtfailmax = 0.5, dtfailmin = 0.1, dtpassmax = 5.0, dtpassmin = 0.1, maxfail= 60.0, maxsteps = 2000.0, rtol = 0.00001, s = 0.9)\n",
    "out_dic['initvars'] = dict(blackconc = 0.7, rabbitpop = 50.0, whiteconc = 0.2, foxpop = 7.0)\n",
    "out_dic['timevars'] = dict(dt = 0.1, tend = 300.0, tstart = 0.0)\n",
    "out_dic['uservars'] = dict(L = 1.1, R = 0.12, S0 = 3668.0, albedo_black = 0.25, albedo_ground = 0.5, albedo_white = 0.75, phi = 0.7, sigma = 5.67e-08, tau = 0.001, omega = 0.3, delta = 0.008, eta = 0.037)\n",
    "with open('foxes.yaml', 'w') as f:\n",
    "    yaml.safe_dump(out_dic, f)"
   ]
  },
  {
   "cell_type": "code",
   "execution_count": null,
   "id": "a54aadea",
   "metadata": {},
   "outputs": [],
   "source": []
  }
 ],
 "metadata": {
  "interpreter": {
   "hash": "40d3a090f54c6569ab1632332b64b2c03c39dcf918b08424e98f38b5ae0af88f"
  },
  "kernelspec": {
   "display_name": "Python 3.8.8 64-bit ('base': conda)",
   "language": "python",
   "name": "python3"
  },
  "language_info": {
   "codemirror_mode": {
    "name": "ipython",
    "version": 3
   },
   "file_extension": ".py",
   "mimetype": "text/x-python",
   "name": "python",
   "nbconvert_exporter": "python",
   "pygments_lexer": "ipython3",
   "version": "3.8.8"
  },
  "toc": {
   "base_numbering": 1,
   "nav_menu": {},
   "number_sections": false,
   "sideBar": true,
   "skip_h1_title": false,
   "title_cell": "Table of Contents",
   "title_sidebar": "Contents",
   "toc_cell": false,
   "toc_position": {},
   "toc_section_display": true,
   "toc_window_display": false
  }
 },
 "nbformat": 4,
 "nbformat_minor": 5
}
